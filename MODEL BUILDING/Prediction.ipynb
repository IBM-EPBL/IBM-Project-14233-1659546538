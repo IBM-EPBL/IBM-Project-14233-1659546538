{
  "nbformat": 4,
  "nbformat_minor": 0,
  "metadata": {
    "colab": {
      "provenance": []
    },
    "kernelspec": {
      "name": "python3",
      "display_name": "Python 3"
    },
    "language_info": {
      "name": "python"
    }
  },
  "cells": [
    {
      "cell_type": "code",
      "execution_count": 1,
      "metadata": {
        "id": "bRs4BMSVnBww"
      },
      "outputs": [],
      "source": [
        "import keras\n",
        "from keras.preprocessing.image import ImageDataGenerator"
      ]
    },
    {
      "cell_type": "code",
      "source": [
        "\n",
        "train_datagen=ImageDataGenerator(rescale=1./255,shear_range=0.2,rotation_range=180,zoom_range=0.2,horizontal_flip=True)\n",
        "\n",
        "test_datagen=ImageDataGenerator(rescale=1./255)\n"
      ],
      "metadata": {
        "id": "FsTOB_o3tMkk"
      },
      "execution_count": 11,
      "outputs": []
    },
    {
      "cell_type": "code",
      "source": [
        "x_train=train_datagen.flow_from_directory('/content/drive/MyDrive/DATASET/Dataset/Dataset/train_set',target_size=(128,128),batch_size=32,class_mode='binary')"
      ],
      "metadata": {
        "colab": {
          "base_uri": "https://localhost:8080/"
        },
        "id": "151UagOmtPSR",
        "outputId": "a5432824-0b80-4f86-8abc-28a57bf3e9d3"
      },
      "execution_count": 4,
      "outputs": [
        {
          "output_type": "stream",
          "name": "stdout",
          "text": [
            "Found 436 images belonging to 2 classes.\n"
          ]
        }
      ]
    },
    {
      "cell_type": "code",
      "source": [
        "x_test=test_datagen.flow_from_directory('/content/drive/MyDrive/DATASET/Dataset/Dataset/test_set',target_size=(128,128),batch_size=32,class_mode='binary')"
      ],
      "metadata": {
        "colab": {
          "base_uri": "https://localhost:8080/"
        },
        "id": "woL7G553tYMy",
        "outputId": "a3ae5803-2d85-4b92-bd86-4a3a4a6fd722"
      },
      "execution_count": 5,
      "outputs": [
        {
          "output_type": "stream",
          "name": "stdout",
          "text": [
            "Found 121 images belonging to 2 classes.\n"
          ]
        }
      ]
    },
    {
      "cell_type": "code",
      "source": [
        "from keras.models import Sequential\n",
        "from keras.layers import Dense\n",
        "from keras.layers import Convolution2D\n",
        "from keras.layers import MaxPooling2D\n",
        "from keras.layers import Flatten\n",
        "import warnings\n",
        "warnings.filterwarnings('ignore')"
      ],
      "metadata": {
        "id": "Z6aM9b8Xtco6"
      },
      "execution_count": 6,
      "outputs": []
    },
    {
      "cell_type": "code",
      "source": [
        "model=Sequential()"
      ],
      "metadata": {
        "id": "vzKW1kUwtgk_"
      },
      "execution_count": 7,
      "outputs": []
    },
    {
      "cell_type": "code",
      "source": [
        "model.add(Convolution2D(32,(3,3),input_shape=(128,128,3),activation='relu'))\n",
        "model.add(MaxPooling2D(pool_size=(2,2))) \n",
        "model.add(Flatten())\n"
      ],
      "metadata": {
        "id": "vWVVR3EXtj6s"
      },
      "execution_count": 8,
      "outputs": []
    },
    {
      "cell_type": "code",
      "source": [
        "model.add(Dense(150,activation='relu'))\n",
        "model.add(Dense(1,activation='sigmoid'))"
      ],
      "metadata": {
        "id": "MDhdeOFStnyw"
      },
      "execution_count": 9,
      "outputs": []
    },
    {
      "cell_type": "code",
      "source": [
        "model.compile(loss='binary_crossentropy',optimizer=\"adam\",metrics=[\"accuracy\"])"
      ],
      "metadata": {
        "id": "1VPSElh4uuXx"
      },
      "execution_count": 12,
      "outputs": []
    },
    {
      "cell_type": "code",
      "source": [
        "model.fit_generator(x_train,steps_per_epoch=14,epochs=10,validation_data=x_test,validation_steps=4)"
      ],
      "metadata": {
        "colab": {
          "base_uri": "https://localhost:8080/"
        },
        "id": "vhMG1uxJuvZj",
        "outputId": "f7f029ee-2170-4500-9e02-cf18a7e792c4"
      },
      "execution_count": 13,
      "outputs": [
        {
          "output_type": "stream",
          "name": "stdout",
          "text": [
            "Epoch 1/10\n",
            "14/14 [==============================] - 133s 9s/step - loss: 3.3340 - accuracy: 0.6858 - val_loss: 0.2506 - val_accuracy: 0.9587\n",
            "Epoch 2/10\n",
            "14/14 [==============================] - 25s 2s/step - loss: 0.4925 - accuracy: 0.8417 - val_loss: 0.2306 - val_accuracy: 0.9091\n",
            "Epoch 3/10\n",
            "14/14 [==============================] - 25s 2s/step - loss: 0.2565 - accuracy: 0.9083 - val_loss: 0.0720 - val_accuracy: 0.9835\n",
            "Epoch 4/10\n",
            "14/14 [==============================] - 25s 2s/step - loss: 0.2112 - accuracy: 0.9060 - val_loss: 0.0464 - val_accuracy: 0.9917\n",
            "Epoch 5/10\n",
            "14/14 [==============================] - 27s 2s/step - loss: 0.1786 - accuracy: 0.9220 - val_loss: 0.0405 - val_accuracy: 0.9917\n",
            "Epoch 6/10\n",
            "14/14 [==============================] - 25s 2s/step - loss: 0.1942 - accuracy: 0.9220 - val_loss: 0.0524 - val_accuracy: 0.9752\n",
            "Epoch 7/10\n",
            "14/14 [==============================] - 25s 2s/step - loss: 0.1572 - accuracy: 0.9243 - val_loss: 0.0458 - val_accuracy: 0.9752\n",
            "Epoch 8/10\n",
            "14/14 [==============================] - 26s 2s/step - loss: 0.1639 - accuracy: 0.9312 - val_loss: 0.0402 - val_accuracy: 0.9917\n",
            "Epoch 9/10\n",
            "14/14 [==============================] - 25s 2s/step - loss: 0.2095 - accuracy: 0.9174 - val_loss: 0.0922 - val_accuracy: 0.9587\n",
            "Epoch 10/10\n",
            "14/14 [==============================] - 26s 2s/step - loss: 0.2097 - accuracy: 0.9083 - val_loss: 0.0399 - val_accuracy: 1.0000\n"
          ]
        },
        {
          "output_type": "execute_result",
          "data": {
            "text/plain": [
              "<keras.callbacks.History at 0x7f32c6f95a50>"
            ]
          },
          "metadata": {},
          "execution_count": 13
        }
      ]
    },
    {
      "cell_type": "code",
      "source": [
        "model.save(\"forest1.h5\")"
      ],
      "metadata": {
        "id": "LGAojN7hw6Et"
      },
      "execution_count": 14,
      "outputs": []
    },
    {
      "cell_type": "code",
      "source": [
        "from keras.models import load_model\n",
        "from tensorflow.keras.preprocessing import image\n",
        "import numpy as np\n",
        "import cv2"
      ],
      "metadata": {
        "id": "LghTDmpDw8QG"
      },
      "execution_count": 15,
      "outputs": []
    },
    {
      "cell_type": "code",
      "source": [
        "model = load_model(\"forest1.h5\")\n"
      ],
      "metadata": {
        "id": "QyAxCCSSx0gY"
      },
      "execution_count": 16,
      "outputs": []
    },
    {
      "cell_type": "code",
      "source": [
        "img=image.load_img('/content/drive/MyDrive/DATASET/Dataset/Dataset/test_set/with fire/180802_CarrFire_010_large_700x467.jpg')\n",
        "x=image.img_to_array(img)\n",
        "res = cv2.resize(x, dsize=(128, 128), interpolation=cv2.INTER_CUBIC)\n",
        "x=np.expand_dims(res,axis=0)"
      ],
      "metadata": {
        "id": "rPsTkVOZx2_Y"
      },
      "execution_count": 17,
      "outputs": []
    },
    {
      "cell_type": "code",
      "source": [
        "pred=model.predict(x)"
      ],
      "metadata": {
        "colab": {
          "base_uri": "https://localhost:8080/"
        },
        "id": "kKLP9An1x64Z",
        "outputId": "7934f8c0-1fc9-4eca-ac6a-6e3e4836b3ab"
      },
      "execution_count": 18,
      "outputs": [
        {
          "output_type": "stream",
          "name": "stdout",
          "text": [
            "1/1 [==============================] - 0s 136ms/step\n"
          ]
        }
      ]
    },
    {
      "cell_type": "code",
      "source": [
        "pred"
      ],
      "metadata": {
        "colab": {
          "base_uri": "https://localhost:8080/"
        },
        "id": "wm1E462jx896",
        "outputId": "f5d44def-9666-4a8c-f598-99e18b84a5a5"
      },
      "execution_count": 19,
      "outputs": [
        {
          "output_type": "execute_result",
          "data": {
            "text/plain": [
              "array([[1.]], dtype=float32)"
            ]
          },
          "metadata": {},
          "execution_count": 19
        }
      ]
    },
    {
      "cell_type": "code",
      "source": [],
      "metadata": {
        "id": "npDWTR2jyBzu"
      },
      "execution_count": null,
      "outputs": []
    }
  ]
}